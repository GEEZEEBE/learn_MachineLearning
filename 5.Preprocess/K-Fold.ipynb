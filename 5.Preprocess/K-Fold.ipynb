{
 "cells": [
  {
   "cell_type": "code",
   "execution_count": 3,
   "metadata": {},
   "outputs": [],
   "source": [
    "import pandas as pd\n",
    "import numpy as np\n",
    "\n",
    "from sklearn.model_selection import KFold\n",
    "\n",
    "pd_readcsv = pd.read_csv('./dbs/DataPreprocess.csv')\n",
    "pd_readcsv\n",
    "\n",
    "x_df = pd_readcsv.values[:,:-1]\n",
    "y_df = pd_readcsv.values[:,-1]"
   ]
  },
  {
   "cell_type": "code",
   "execution_count": 4,
   "metadata": {},
   "outputs": [],
   "source": [
    "cv = KFold(n_splits=3, shuffle=True, random_state=0)"
   ]
  },
  {
   "cell_type": "code",
   "execution_count": 6,
   "metadata": {},
   "outputs": [
    {
     "name": "stdout",
     "output_type": "stream",
     "text": [
      "train_index  [0 1 3 5 6 7]\n",
      "test_index  [2 4 8 9]\n",
      "train_index  [0 2 3 4 5 8 9]\n",
      "test_index  [1 6 7]\n",
      "train_index  [1 2 4 6 7 8 9]\n",
      "test_index  [0 3 5]\n"
     ]
    }
   ],
   "source": [
    "for train_index, test_index in cv.split(x_df):\n",
    "    print('train_index ', train_index)        \n",
    "    print('test_index ', test_index)"
   ]
  },
  {
   "cell_type": "code",
   "execution_count": null,
   "metadata": {},
   "outputs": [],
   "source": []
  }
 ],
 "metadata": {
  "kernelspec": {
   "display_name": "Python 3",
   "language": "python",
   "name": "python3"
  },
  "language_info": {
   "codemirror_mode": {
    "name": "ipython",
    "version": 3
   },
   "file_extension": ".py",
   "mimetype": "text/x-python",
   "name": "python",
   "nbconvert_exporter": "python",
   "pygments_lexer": "ipython3",
   "version": "3.7.2"
  }
 },
 "nbformat": 4,
 "nbformat_minor": 2
}
