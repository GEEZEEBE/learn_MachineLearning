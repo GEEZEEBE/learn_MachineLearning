{
 "cells": [
  {
   "cell_type": "markdown",
   "metadata": {},
   "source": [
    "##* 전처리 절차\n",
    "1. 누락된 데이터 처리\n",
    "- 추가 수집 또는 불필요 컬럼 정리\n",
    "2. 학습 데이터 결과\n",
    "- K-Fold\n",
    "3. 피처 스케일링\n",
    "- Zero Centered : 선형 그래프 기울기 '0' 화\n",
    "- Scaling : 데이터 간 격차 유사화 \n",
    "4. Labeling & OneHotEncoder\n",
    "- 글자를 숫자화"
   ]
  },
  {
   "cell_type": "code",
   "execution_count": null,
   "metadata": {},
   "outputs": [],
   "source": []
  }
 ],
 "metadata": {
  "kernelspec": {
   "display_name": "Python 3",
   "language": "python",
   "name": "python3"
  },
  "language_info": {
   "codemirror_mode": {
    "name": "ipython",
    "version": 3
   },
   "file_extension": ".py",
   "mimetype": "text/x-python",
   "name": "python",
   "nbconvert_exporter": "python",
   "pygments_lexer": "ipython3",
   "version": "3.7.2"
  }
 },
 "nbformat": 4,
 "nbformat_minor": 2
}
