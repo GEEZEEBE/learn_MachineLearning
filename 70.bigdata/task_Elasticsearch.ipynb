{
 "cells": [
  {
   "cell_type": "code",
   "execution_count": 34,
   "metadata": {},
   "outputs": [],
   "source": [
    "import pandas as pd\n",
    "\n",
    "col_names=['OS', 'opcode', 'execute_command', 'malware_flag'] \n",
    "datadf = pd.read_csv(\"../datas/readAndwrtieCSV.csv\",names=col_names, header=None) \n",
    "# data.info()\n",
    "# data.head()"
   ]
  },
  {
   "cell_type": "code",
   "execution_count": 58,
   "metadata": {},
   "outputs": [
    {
     "data": {
      "text/plain": [
       "512"
      ]
     },
     "execution_count": 58,
     "metadata": {},
     "output_type": "execute_result"
    }
   ],
   "source": [
    "datadf.shape[0]"
   ]
  },
  {
   "cell_type": "code",
   "execution_count": 35,
   "metadata": {},
   "outputs": [
    {
     "data": {
      "text/plain": [
       "<Elasticsearch([{'host': 'localhost', 'port': 9200}])>"
      ]
     },
     "execution_count": 35,
     "metadata": {},
     "output_type": "execute_result"
    }
   ],
   "source": [
    "# Import Elasticsearch package \n",
    "from elasticsearch import Elasticsearch \n",
    "# Connect to the elastic cluster\n",
    "elsearch=Elasticsearch([{'host':'localhost','port':9200}])\n",
    "elsearch"
   ]
  },
  {
   "cell_type": "code",
   "execution_count": 36,
   "metadata": {},
   "outputs": [],
   "source": [
    "index_name = 'test_iotlog' # Database\n",
    "documenttype_name = 'test_year' # Type of the document"
   ]
  },
  {
   "cell_type": "code",
   "execution_count": 40,
   "metadata": {},
   "outputs": [],
   "source": [
    "template={\n",
    "    \"datetime\": '',\n",
    "    \"machine_name\": '',\n",
    "    \"unique_ip\": '',\n",
    "    \"OS\": '',\n",
    "    \"opcode\": '',\n",
    "    \"execute_command\": '',\n",
    "    \"malware_flag\": 0, # good : 0, malware : 1\n",
    "    \"running_flag\": 0, # machine running rate good : 0, malware : 1\n",
    "}"
   ]
  },
  {
   "cell_type": "code",
   "execution_count": 65,
   "metadata": {},
   "outputs": [
    {
     "data": {
      "text/plain": [
       "[datetime.datetime(2019, 10, 17, 1, 51, 47, 29646),\n",
       " datetime.datetime(2019, 10, 18, 1, 51, 47, 29646),\n",
       " datetime.datetime(2019, 10, 19, 1, 51, 47, 29646)]"
      ]
     },
     "execution_count": 65,
     "metadata": {},
     "output_type": "execute_result"
    }
   ],
   "source": [
    "import random\n",
    "from datetime import datetime\n",
    "\n",
    "machine_name_type = ['Google Home Voice Controller',\n",
    "            'Amazon Echo Plus Voice Controller',\n",
    "            'Amazon Dash Button',\n",
    "            'August Doorbell Cam',\n",
    "            'August Smart Lock',\n",
    "            'Kuri Mobile Robot',\n",
    "            'Belkin WeMo Smart Light Switch',\n",
    "            'Footbot Air Quality Monitor']\n",
    "machine_name_type_length = len(machine_name_type)-1\n",
    "\n",
    "unique_ip = ['211.201.165.134',\n",
    "            '201.101.161.31',\n",
    "            '251.121.161.33',\n",
    "            '221.201.164.34',\n",
    "            '111.211.162.35',\n",
    "            '101.201.165.36',\n",
    "            '121.101.161.37',\n",
    "            '141.202.162.38',]\n",
    "\n",
    "datadf_row = datadf.shape[0] - 1\n",
    "\n",
    "template_count = 5\n",
    "templage_periods = 3\n",
    "\n",
    "template_date = pd.date_range(end = pd.datetime.today(), periods = templage_periods).to_pydatetime().tolist()\n",
    "template_date"
   ]
  },
  {
   "cell_type": "code",
   "execution_count": 68,
   "metadata": {
    "scrolled": true
   },
   "outputs": [],
   "source": [
    "for range_date in template_date:\n",
    "    documenttype_name = str(range_date.strftime('%Y-%m-%d'))\n",
    "    for i in range(0,template_count):\n",
    "#         template[\"datetime\"] = str(datetime.now())\n",
    "        template[\"datetime\"] = str(range_date)\n",
    "\n",
    "        machine_name_random = random.randrange(0, machine_name_type_length)\n",
    "        template[\"machine_name\"] = machine_name_type[machine_name_random]\n",
    "        template[\"unique_ip\"] = unique_ip[machine_name_random]\n",
    "\n",
    "        datadf_random_number = random.randrange(0, datadf_row)\n",
    "        template[\"OS\"] = datadf['OS'].iloc[datadf_random_number]\n",
    "        template[\"opcode\"] = datadf['opcode'].iloc[datadf_random_number]\n",
    "        template[\"execute_command\"] = datadf['execute_command'].iloc[datadf_random_number]\n",
    "        template[\"malware_flag\"] = int(datadf['malware_flag'].iloc[datadf_random_number])\n",
    "\n",
    "        template[\"running_flag\"] = random.randrange(0, 1)\n",
    "\n",
    "        elsearch.index(index=index_name,doc_type=documenttype_name,body=template)"
   ]
  },
  {
   "cell_type": "code",
   "execution_count": null,
   "metadata": {},
   "outputs": [],
   "source": []
  },
  {
   "cell_type": "code",
   "execution_count": null,
   "metadata": {},
   "outputs": [],
   "source": []
  }
 ],
 "metadata": {
  "kernelspec": {
   "display_name": "Python 3",
   "language": "python",
   "name": "python3"
  },
  "language_info": {
   "codemirror_mode": {
    "name": "ipython",
    "version": 3
   },
   "file_extension": ".py",
   "mimetype": "text/x-python",
   "name": "python",
   "nbconvert_exporter": "python",
   "pygments_lexer": "ipython3",
   "version": "3.7.4"
  }
 },
 "nbformat": 4,
 "nbformat_minor": 2
}
