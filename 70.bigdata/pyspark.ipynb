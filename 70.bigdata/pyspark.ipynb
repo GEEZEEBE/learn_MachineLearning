{
 "cells": [
  {
   "cell_type": "code",
   "execution_count": 2,
   "metadata": {},
   "outputs": [
    {
     "name": "stdout",
     "output_type": "stream",
     "text": [
      "Collecting wget\n",
      "  Downloading wget-3.2.zip (10 kB)\n",
      "Building wheels for collected packages: wget\n",
      "  Building wheel for wget (setup.py) ... \u001b[?25ldone\n",
      "\u001b[?25h  Created wheel for wget: filename=wget-3.2-py3-none-any.whl size=9681 sha256=82b1e3387b10d6fac8c2986829c5f0cccfa1888d3706d09384f8956e62a1e718\n",
      "  Stored in directory: /home/jovyan/.cache/pip/wheels/a1/b6/7c/0e63e34eb06634181c63adacca38b79ff8f35c37e3c13e3c02\n",
      "Successfully built wget\n",
      "Installing collected packages: wget\n",
      "Successfully installed wget-3.2\n"
     ]
    }
   ],
   "source": [
    "!pip install wget"
   ]
  },
  {
   "cell_type": "code",
   "execution_count": 3,
   "metadata": {},
   "outputs": [
    {
     "name": "stdout",
     "output_type": "stream",
     "text": [
      "Once deleted, variables cannot be recovered. Proceed (y/[n])? y\n"
     ]
    }
   ],
   "source": [
    "%reset"
   ]
  },
  {
   "cell_type": "code",
   "execution_count": 4,
   "metadata": {},
   "outputs": [],
   "source": [
    "import wget"
   ]
  },
  {
   "cell_type": "code",
   "execution_count": 11,
   "metadata": {},
   "outputs": [],
   "source": [
    "# import necessary libraries\n",
    "import pandas as pd \n",
    "import numpy\n",
    "import matplotlib.pyplot as plt \n",
    "from pyspark.sql import SparkSession\n",
    "# create sparksession\n",
    "spark = SparkSession \\\n",
    "    .builder \\\n",
    "    .appName(\"Pysparkexample\") \\\n",
    "    .config(\"spark.some.config.option\", \"some-value\") \\\n",
    "    .getOrCreate()"
   ]
  },
  {
   "cell_type": "code",
   "execution_count": 16,
   "metadata": {},
   "outputs": [
    {
     "data": {
      "text/plain": [
       "'786x-sbp3.csv'"
      ]
     },
     "execution_count": 16,
     "metadata": {},
     "output_type": "execute_result"
    }
   ],
   "source": [
    "url = 'https://data.vermont.gov/resource/786x-sbp3.csv'\n",
    "filename = wget.download(url)\n",
    "filename"
   ]
  },
  {
   "cell_type": "code",
   "execution_count": 23,
   "metadata": {},
   "outputs": [
    {
     "data": {
      "text/html": [
       "<div>\n",
       "<style scoped>\n",
       "    .dataframe tbody tr th:only-of-type {\n",
       "        vertical-align: middle;\n",
       "    }\n",
       "\n",
       "    .dataframe tbody tr th {\n",
       "        vertical-align: top;\n",
       "    }\n",
       "\n",
       "    .dataframe thead th {\n",
       "        text-align: right;\n",
       "    }\n",
       "</style>\n",
       "<table border=\"1\" class=\"dataframe\">\n",
       "  <thead>\n",
       "    <tr style=\"text-align: right;\">\n",
       "      <th></th>\n",
       "      <th>qtrending</th>\n",
       "      <th>govtunit</th>\n",
       "      <th>unitno</th>\n",
       "      <th>vno</th>\n",
       "      <th>vendor</th>\n",
       "      <th>city</th>\n",
       "      <th>state</th>\n",
       "      <th>description</th>\n",
       "      <th>objcode</th>\n",
       "      <th>amt</th>\n",
       "      <th>account</th>\n",
       "      <th>acctno</th>\n",
       "      <th>fund_description</th>\n",
       "      <th>fund</th>\n",
       "    </tr>\n",
       "  </thead>\n",
       "  <tbody>\n",
       "    <tr>\n",
       "      <th>0</th>\n",
       "      <td>2019-12-31T00:00:00.000</td>\n",
       "      <td>Human Resources-Gov'tal</td>\n",
       "      <td>1120</td>\n",
       "      <td>43671</td>\n",
       "      <td>Agency of Digital Services-CIT-Cust Supp</td>\n",
       "      <td>Montpelier</td>\n",
       "      <td>VT</td>\n",
       "      <td>DHR - VTHR Operations</td>\n",
       "      <td>1120080000</td>\n",
       "      <td>23.46</td>\n",
       "      <td>Telecom-Wireless Phone Service</td>\n",
       "      <td>516659</td>\n",
       "      <td>Financial Management Fund</td>\n",
       "      <td>59300</td>\n",
       "    </tr>\n",
       "    <tr>\n",
       "      <th>1</th>\n",
       "      <td>2019-12-31T00:00:00.000</td>\n",
       "      <td>Tax</td>\n",
       "      <td>1140</td>\n",
       "      <td>40668</td>\n",
       "      <td>Vernon Town Clerk</td>\n",
       "      <td>Vernon</td>\n",
       "      <td>VT</td>\n",
       "      <td>Tax Operation Costs</td>\n",
       "      <td>1140010000</td>\n",
       "      <td>15.00</td>\n",
       "      <td>Recording &amp; Other Fees</td>\n",
       "      <td>507620</td>\n",
       "      <td>General Fund</td>\n",
       "      <td>10000</td>\n",
       "    </tr>\n",
       "    <tr>\n",
       "      <th>2</th>\n",
       "      <td>2019-12-31T00:00:00.000</td>\n",
       "      <td>Agency of Digital Services</td>\n",
       "      <td>1105</td>\n",
       "      <td>43658</td>\n",
       "      <td>Buildings &amp; General Services-Print Shop</td>\n",
       "      <td>Montpelier</td>\n",
       "      <td>VT</td>\n",
       "      <td>ADS Chief Financial Office</td>\n",
       "      <td>1105500501</td>\n",
       "      <td>10.00</td>\n",
       "      <td>Printing &amp; Binding-BGS Copy Ct</td>\n",
       "      <td>517005</td>\n",
       "      <td>Information Technology</td>\n",
       "      <td>58100</td>\n",
       "    </tr>\n",
       "    <tr>\n",
       "      <th>3</th>\n",
       "      <td>2019-12-31T00:00:00.000</td>\n",
       "      <td>Human Resources-Gov'tal</td>\n",
       "      <td>1120</td>\n",
       "      <td>45300</td>\n",
       "      <td>Buildings &amp; General Svcs-Purchasing Card</td>\n",
       "      <td>Montpelier</td>\n",
       "      <td>VT</td>\n",
       "      <td>PERSONNEL OPERATIONS</td>\n",
       "      <td>1120010000</td>\n",
       "      <td>153.72</td>\n",
       "      <td>Telecom-Conf Calling Services</td>\n",
       "      <td>516658</td>\n",
       "      <td>General Fund</td>\n",
       "      <td>10000</td>\n",
       "    </tr>\n",
       "    <tr>\n",
       "      <th>4</th>\n",
       "      <td>2019-12-31T00:00:00.000</td>\n",
       "      <td>Libraries</td>\n",
       "      <td>1130</td>\n",
       "      <td>42646</td>\n",
       "      <td>Fair Haven Free Library</td>\n",
       "      <td>Fair Haven</td>\n",
       "      <td>VT</td>\n",
       "      <td>Library &amp; Information Services</td>\n",
       "      <td>1130033000</td>\n",
       "      <td>390.00</td>\n",
       "      <td>Grants</td>\n",
       "      <td>550220</td>\n",
       "      <td>Federal Revenue Fund</td>\n",
       "      <td>22005</td>\n",
       "    </tr>\n",
       "  </tbody>\n",
       "</table>\n",
       "</div>"
      ],
      "text/plain": [
       "                 qtrending                    govtunit  unitno    vno  \\\n",
       "0  2019-12-31T00:00:00.000     Human Resources-Gov'tal    1120  43671   \n",
       "1  2019-12-31T00:00:00.000                         Tax    1140  40668   \n",
       "2  2019-12-31T00:00:00.000  Agency of Digital Services    1105  43658   \n",
       "3  2019-12-31T00:00:00.000     Human Resources-Gov'tal    1120  45300   \n",
       "4  2019-12-31T00:00:00.000                   Libraries    1130  42646   \n",
       "\n",
       "                                     vendor        city state  \\\n",
       "0  Agency of Digital Services-CIT-Cust Supp  Montpelier    VT   \n",
       "1                         Vernon Town Clerk      Vernon    VT   \n",
       "2   Buildings & General Services-Print Shop  Montpelier    VT   \n",
       "3  Buildings & General Svcs-Purchasing Card  Montpelier    VT   \n",
       "4                   Fair Haven Free Library  Fair Haven    VT   \n",
       "\n",
       "                      description     objcode     amt  \\\n",
       "0           DHR - VTHR Operations  1120080000   23.46   \n",
       "1             Tax Operation Costs  1140010000   15.00   \n",
       "2      ADS Chief Financial Office  1105500501   10.00   \n",
       "3            PERSONNEL OPERATIONS  1120010000  153.72   \n",
       "4  Library & Information Services  1130033000  390.00   \n",
       "\n",
       "                          account  acctno           fund_description   fund  \n",
       "0  Telecom-Wireless Phone Service  516659  Financial Management Fund  59300  \n",
       "1          Recording & Other Fees  507620               General Fund  10000  \n",
       "2  Printing & Binding-BGS Copy Ct  517005     Information Technology  58100  \n",
       "3   Telecom-Conf Calling Services  516658               General Fund  10000  \n",
       "4                          Grants  550220       Federal Revenue Fund  22005  "
      ]
     },
     "execution_count": 23,
     "metadata": {},
     "output_type": "execute_result"
    }
   ],
   "source": [
    "# %%timeit\n",
    "df_pandas = pd.read_csv(filename)\n",
    "df_pandas.head(5)"
   ]
  },
  {
   "cell_type": "code",
   "execution_count": 24,
   "metadata": {
    "scrolled": true
   },
   "outputs": [
    {
     "data": {
      "text/plain": [
       "<bound method NDFrame.describe of                    qtrending                    govtunit  unitno    vno  \\\n",
       "0    2019-12-31T00:00:00.000     Human Resources-Gov'tal    1120  43671   \n",
       "1    2019-12-31T00:00:00.000                         Tax    1140  40668   \n",
       "2    2019-12-31T00:00:00.000  Agency of Digital Services    1105  43658   \n",
       "3    2019-12-31T00:00:00.000     Human Resources-Gov'tal    1120  45300   \n",
       "4    2019-12-31T00:00:00.000                   Libraries    1130  42646   \n",
       "..                       ...                         ...     ...    ...   \n",
       "995  2019-12-31T00:00:00.000                         Tax    1140  40241   \n",
       "996  2019-12-31T00:00:00.000                         Tax    1140  40734   \n",
       "997  2019-12-31T00:00:00.000                         Tax    1140  40653   \n",
       "998  2019-12-31T00:00:00.000                         Tax    1140  40590   \n",
       "999  2019-12-31T00:00:00.000                         Tax    1140  40357   \n",
       "\n",
       "                                       vendor           city state  \\\n",
       "0    Agency of Digital Services-CIT-Cust Supp     Montpelier    VT   \n",
       "1                           Vernon Town Clerk         Vernon    VT   \n",
       "2     Buildings & General Services-Print Shop     Montpelier    VT   \n",
       "3    Buildings & General Svcs-Purchasing Card     Montpelier    VT   \n",
       "4                     Fair Haven Free Library     Fair Haven    VT   \n",
       "..                                        ...            ...   ...   \n",
       "995                   Richford Town Treasurer       Richford    VT   \n",
       "996                  Rochester Town Treasurer      Rochester    VT   \n",
       "997                 Rockingham Town Treasurer  Bellows Falls    VT   \n",
       "998                 Waitsfield Town Treasurer     Waitsfield    VT   \n",
       "999                   Vershire Town Treasurer       Vershire    VT   \n",
       "\n",
       "                        description     objcode     amt  \\\n",
       "0             DHR - VTHR Operations  1120080000   23.46   \n",
       "1               Tax Operation Costs  1140010000   15.00   \n",
       "2        ADS Chief Financial Office  1105500501   10.00   \n",
       "3              PERSONNEL OPERATIONS  1120010000  153.72   \n",
       "4    Library & Information Services  1130033000  390.00   \n",
       "..                              ...         ...     ...   \n",
       "995             Tax Operation Costs  1140010000   15.00   \n",
       "996             Tax Operation Costs  1140010000   15.00   \n",
       "997             Tax Operation Costs  1140010000  105.00   \n",
       "998             Tax Operation Costs  1140010000   45.00   \n",
       "999             Tax Operation Costs  1140010000   30.00   \n",
       "\n",
       "                            account  acctno           fund_description   fund  \n",
       "0    Telecom-Wireless Phone Service  516659  Financial Management Fund  59300  \n",
       "1            Recording & Other Fees  507620               General Fund  10000  \n",
       "2    Printing & Binding-BGS Copy Ct  517005     Information Technology  58100  \n",
       "3     Telecom-Conf Calling Services  516658               General Fund  10000  \n",
       "4                            Grants  550220       Federal Revenue Fund  22005  \n",
       "..                              ...     ...                        ...    ...  \n",
       "995          Recording & Other Fees  507620               General Fund  10000  \n",
       "996          Recording & Other Fees  507620               General Fund  10000  \n",
       "997          Recording & Other Fees  507620               General Fund  10000  \n",
       "998          Recording & Other Fees  507620               General Fund  10000  \n",
       "999          Recording & Other Fees  507620               General Fund  10000  \n",
       "\n",
       "[1000 rows x 14 columns]>"
      ]
     },
     "execution_count": 24,
     "metadata": {},
     "output_type": "execute_result"
    }
   ],
   "source": [
    "df_pandas.describe"
   ]
  },
  {
   "cell_type": "code",
   "execution_count": 25,
   "metadata": {},
   "outputs": [
    {
     "data": {
      "text/plain": [
       "DataFrame[qtrending: timestamp, govtunit: string, unitno: int, vno: int, vendor: string, city: string, state: string, description: string, objcode: int, amt: double, account: string, acctno: int, fund_description: string, fund: int]"
      ]
     },
     "execution_count": 25,
     "metadata": {},
     "output_type": "execute_result"
    }
   ],
   "source": [
    "df = spark.read.csv(filename, header='true', inferSchema = True)\n",
    "df"
   ]
  },
  {
   "cell_type": "code",
   "execution_count": 28,
   "metadata": {},
   "outputs": [
    {
     "data": {
      "text/plain": [
       "(DataFrame[qtrending: timestamp, govtunit: string, unitno: int, vno: int, vendor: string, city: string, state: string, description: string, objcode: int, amt: double, account: string, acctno: int, fund_description: string, fund: int, Amount: double],\n",
       " ['qtrending',\n",
       "  'govtunit',\n",
       "  'unitno',\n",
       "  'vno',\n",
       "  'vendor',\n",
       "  'city',\n",
       "  'state',\n",
       "  'description',\n",
       "  'objcode',\n",
       "  'amt',\n",
       "  'account',\n",
       "  'acctno',\n",
       "  'fund_description',\n",
       "  'fund',\n",
       "  'Amount'])"
      ]
     },
     "execution_count": 28,
     "metadata": {},
     "output_type": "execute_result"
    }
   ],
   "source": [
    "df = df.withColumn(\"Amount\", df[\"amt\"].cast(\"double\"))\n",
    "df, df.columns"
   ]
  },
  {
   "cell_type": "code",
   "execution_count": 34,
   "metadata": {},
   "outputs": [
    {
     "name": "stdout",
     "output_type": "stream",
     "text": [
      "+-------------------+--------------------+------+-----+--------------------+----------+-----+--------------------+----------+------+--------------------+------+--------------------+-----+------+\n",
      "|          qtrending|            govtunit|unitno|  vno|              vendor|      city|state|         description|   objcode|   amt|             account|acctno|    fund_description| fund|Amount|\n",
      "+-------------------+--------------------+------+-----+--------------------+----------+-----+--------------------+----------+------+--------------------+------+--------------------+-----+------+\n",
      "|2019-12-31 00:00:00|Human Resources-G...|  1120|43671|Agency of Digital...|Montpelier|   VT|DHR - VTHR Operat...|1120080000| 23.46|Telecom-Wireless ...|516659|Financial Managem...|59300| 23.46|\n",
      "|2019-12-31 00:00:00|                 Tax|  1140|40668|   Vernon Town Clerk|    Vernon|   VT| Tax Operation Costs|1140010000|  15.0|Recording & Other...|507620|        General Fund|10000|  15.0|\n",
      "|2019-12-31 00:00:00|Agency of Digital...|  1105|43658|Buildings & Gener...|Montpelier|   VT|ADS Chief Financi...|1105500501|  10.0|Printing & Bindin...|517005|Information Techn...|58100|  10.0|\n",
      "|2019-12-31 00:00:00|Human Resources-G...|  1120|45300|Buildings & Gener...|Montpelier|   VT|PERSONNEL OPERATIONS|1120010000|153.72|Telecom-Conf Call...|516658|        General Fund|10000|153.72|\n",
      "|2019-12-31 00:00:00|           Libraries|  1130|42646|Fair Haven Free L...|Fair Haven|   VT|Library & Informa...|1130033000| 390.0|              Grants|550220|Federal Revenue Fund|22005| 390.0|\n",
      "+-------------------+--------------------+------+-----+--------------------+----------+-----+--------------------+----------+------+--------------------+------+--------------------+-----+------+\n",
      "only showing top 5 rows\n",
      "\n"
     ]
    }
   ],
   "source": [
    "df.show(5)"
   ]
  },
  {
   "cell_type": "code",
   "execution_count": 35,
   "metadata": {},
   "outputs": [
    {
     "name": "stdout",
     "output_type": "stream",
     "text": [
      "+-------+--------------------+------------------+------------------+----------------+---------+-----+--------------------+--------------------+------------------+--------------------+------------------+--------------------+-----------------+------------------+\n",
      "|summary|            govtunit|            unitno|               vno|          vendor|     city|state|         description|             objcode|               amt|             account|            acctno|    fund_description|             fund|            Amount|\n",
      "+-------+--------------------+------------------+------------------+----------------+---------+-----+--------------------+--------------------+------------------+--------------------+------------------+--------------------+-----------------+------------------+\n",
      "|  count|                1000|              1000|              1000|            1000|     1000| 1000|                1000|                1000|              1000|                1000|              1000|                1000|             1000|              1000|\n",
      "|   mean|                null|          1118.445|        129355.978|            null|     null| null|                null|    1.118660607471E9|      174865.93235|                null|        519678.227|                null|        35302.015|      174865.93235|\n",
      "| stddev|                null|14.200656098702758|134876.25053709955|            null|     null| null|                null|1.4056545148653235E7|1838641.0934774147|                null|12997.910920981933|                null|22618.56374893949|1838641.0934774147|\n",
      "|    min|Administration Ag...|              1100|                 8|A T & T Mobility|   Albany|   AL|ADS ACCD Cust Sup...|          1100010000|           -2450.0|  ADS Allocation Exp|            504530|Art Acquisition Fund|            10000|           -2450.0|\n",
      "|    max|                 Tax|              1140|            381898|ePlus Technology|Woodstock|   WI|Youth Services (C...|          1140891801|     3.635024013E7|Workers Comp - Other|            551420|Workers' Compensa...|            63089|     3.635024013E7|\n",
      "+-------+--------------------+------------------+------------------+----------------+---------+-----+--------------------+--------------------+------------------+--------------------+------------------+--------------------+-----------------+------------------+\n",
      "\n"
     ]
    }
   ],
   "source": [
    "df.describe().show()"
   ]
  },
  {
   "cell_type": "code",
   "execution_count": 37,
   "metadata": {},
   "outputs": [
    {
     "name": "stdout",
     "output_type": "stream",
     "text": [
      "+-------------------+--------------------+-------+-----+\n",
      "|          qtrending|            govtunit| Amount|State|\n",
      "+-------------------+--------------------+-------+-----+\n",
      "|2019-12-31 00:00:00|Human Resources-G...|  23.46|   VT|\n",
      "|2019-12-31 00:00:00|                 Tax|   15.0|   VT|\n",
      "|2019-12-31 00:00:00|Agency of Digital...|   10.0|   VT|\n",
      "|2019-12-31 00:00:00|Human Resources-G...| 153.72|   VT|\n",
      "|2019-12-31 00:00:00|           Libraries|  390.0|   VT|\n",
      "|2019-12-31 00:00:00|                 Tax|   15.0|   VT|\n",
      "|2019-12-31 00:00:00|Agency of Digital...|18750.0|   IL|\n",
      "|2019-12-31 00:00:00|Agency of Digital...|   50.0|   VT|\n",
      "|2019-12-31 00:00:00|Agency of Digital...| 8248.0|   IL|\n",
      "|2019-12-31 00:00:00|Human Resources-G...|  27.11|   VT|\n",
      "+-------------------+--------------------+-------+-----+\n",
      "\n"
     ]
    }
   ],
   "source": [
    "df.createOrReplaceTempView('VermontVendor')\n",
    "spark.sql(\n",
    "'''\n",
    "SELECT qtrending, govtunit, Amount, State FROM VermontVendor\n",
    "LIMIT 10\n",
    "'''\n",
    ").show()"
   ]
  },
  {
   "cell_type": "code",
   "execution_count": 39,
   "metadata": {},
   "outputs": [
    {
     "name": "stdout",
     "output_type": "stream",
     "text": [
      "+-------------------+--------------------+--------+-----+\n",
      "|          qtrending|            govtunit|  Amount|State|\n",
      "+-------------------+--------------------+--------+-----+\n",
      "|2019-12-31 00:00:00|Human Resources-G...|   23.46|   VT|\n",
      "|2019-12-31 00:00:00|                 Tax|    15.0|   VT|\n",
      "|2019-12-31 00:00:00|Agency of Digital...|    10.0|   VT|\n",
      "|2019-12-31 00:00:00|Human Resources-G...|  153.72|   VT|\n",
      "|2019-12-31 00:00:00|           Libraries|   390.0|   VT|\n",
      "|2019-12-31 00:00:00|                 Tax|    15.0|   VT|\n",
      "|2019-12-31 00:00:00|Agency of Digital...| 18750.0|   IL|\n",
      "|2019-12-31 00:00:00|Agency of Digital...|    50.0|   VT|\n",
      "|2019-12-31 00:00:00|Agency of Digital...|  8248.0|   IL|\n",
      "|2019-12-31 00:00:00|Human Resources-G...|   27.11|   VT|\n",
      "|2019-12-31 00:00:00|           Libraries|51028.75|   CA|\n",
      "|2019-12-31 00:00:00|           Libraries|   390.0|   VT|\n",
      "|2019-12-31 00:00:00|                 Tax|    15.0|   VT|\n",
      "|2019-12-31 00:00:00|                 Tax|    45.0|   VT|\n",
      "|2019-12-31 00:00:00|Administration Ag...|   220.0|   VT|\n",
      "|2019-12-31 00:00:00|Agency of Digital...| 70000.0|   UT|\n",
      "|2019-12-31 00:00:00|Agency of Digital...|   365.0|   VT|\n",
      "|2019-12-31 00:00:00|Agency of Digital...|    0.24|   VT|\n",
      "|2019-12-31 00:00:00|Agency of Digital...|  -100.0|   NY|\n",
      "|2019-12-31 00:00:00|Agency of Digital...|   219.0|   MA|\n",
      "+-------------------+--------------------+--------+-----+\n",
      "only showing top 20 rows\n",
      "\n"
     ]
    }
   ],
   "source": [
    "df.select('qtrending', 'govtunit', 'Amount', 'State').show()"
   ]
  },
  {
   "cell_type": "code",
   "execution_count": null,
   "metadata": {},
   "outputs": [],
   "source": []
  }
 ],
 "metadata": {
  "kernelspec": {
   "display_name": "Python 3",
   "language": "python",
   "name": "python3"
  },
  "language_info": {
   "codemirror_mode": {
    "name": "ipython",
    "version": 3
   },
   "file_extension": ".py",
   "mimetype": "text/x-python",
   "name": "python",
   "nbconvert_exporter": "python",
   "pygments_lexer": "ipython3",
   "version": "3.7.6"
  }
 },
 "nbformat": 4,
 "nbformat_minor": 4
}
