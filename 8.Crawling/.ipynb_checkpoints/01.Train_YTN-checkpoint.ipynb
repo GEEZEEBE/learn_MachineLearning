{
 "cells": [
  {
   "cell_type": "code",
   "execution_count": 2,
   "metadata": {},
   "outputs": [
    {
     "name": "stderr",
     "output_type": "stream",
     "text": [
      "Some characters could not be decoded, and were replaced with REPLACEMENT CHARACTER.\n"
     ]
    }
   ],
   "source": [
    "from bs4 import BeautifulSoup\n",
    "from urllib.request import urlopen\n",
    "\n",
    "url = 'https://www.ytn.co.kr/_ln/0103_201905301525066133'\n",
    "html = urlopen(url)\n",
    "bsobj = BeautifulSoup(html.read(), 'html.parser')"
   ]
  },
  {
   "cell_type": "code",
   "execution_count": 6,
   "metadata": {},
   "outputs": [],
   "source": [
    "# <div class=\"article_paragraph\" id=\"CmAdContent\" itemprop=\"articleBody\">\n",
    "list = bsobj.findAll('div', {\"id\":\"CmAdContent\", \"class\":'article_paragraph'})"
   ]
  },
  {
   "cell_type": "code",
   "execution_count": 11,
   "metadata": {},
   "outputs": [
    {
     "data": {
      "text/plain": [
       "'\\r\\n\\'신림동 강간 미수\\' 사건 추가 영상이 공개되면서 대중의 공분이 더 거세지고 있다.\\n\\r\\n지난 29일 JTBC \\'뉴스룸\\'은 신림동 강간 미수 폐쇄회로(CC)TV 추가 영상을 공개했다.  \\n\\r\\n이날 주거 침입 혐의로 입건된 A씨(30)는 앞서 공개된 CCTV 영상에서 피해 여성이 번호키를 누르고 들어가자 따라 들어가려고 했고, 문고리를 만지고 문 앞에서 서성이는 등의 행동을 했다. \\n\\r\\n그런데 추가 공개된 CCTV 영상에서 A씨는 자신의 휴대폰 플래시 전원을 켜 도어락의 비밀번호를 알아내기 위해 지문을 살피는 행동까지 했다. 더불어 A씨가 피해 여성을 집 주변 골목에서부터 수십 미터를 따라온 모습도 CCTV에 포착됐다.\\n\\r\\n하지만 A씨는 자신의 명확한 행동과는 다르게 경찰 조사에서 \"새벽까지 술을 마시고 취해서 기억이 나지 않는다\"고 진술한 것으로 알려졌다.  \\n\\r\\n추가 CCTV 공개와 함께 A씨에게 강간미수가 아닌 주거침입 혐의만 적용된 것에 대해 누리꾼들은 \"이게 어떻게 단순 침입인가\", \"단순 주거 침입이었으면 이전부터 쫓아오지 않았을 것\", \"술 먹어서 기억 안 난 다더니 비밀번호도 추적한다\" 등의 반응을 보이며 분노했다.\\n\\r\\n더불어 A씨의 강력 처벌을 요구하는 청와대 국민 청원 또한 63,302(오전 11시 20분 기준)명이 동의했다.\\n\\r\\n경찰 관계자는 주거침입 혐의로 A씨가 입건된 것에 대해 \"강간미수 혐의를 적용하기 위해서는 폭행과 협박 등이 동반돼야 하는데, 현재 확보한 CCTV 영상만으로 이를 확인하기 어렵다\"라며 \"우선 주거침입 혐의를 적용해 A씨를 상대로 범행 경위와 동기를 조사 중\"이라고 밝혔다.\\n\\r\\nYTN PLUS 이은비 기자\\r\\n(eunbi@ytnplus.co.kr)\\r\\n[사진 출처 = JTBC \\'뉴스룸\\' 화면 캡처]'"
      ]
     },
     "execution_count": 11,
     "metadata": {},
     "output_type": "execute_result"
    }
   ],
   "source": [
    "# list[0].text or\n",
    "list[0].span.text"
   ]
  },
  {
   "cell_type": "code",
   "execution_count": null,
   "metadata": {},
   "outputs": [],
   "source": []
  }
 ],
 "metadata": {
  "kernelspec": {
   "display_name": "Python 3",
   "language": "python",
   "name": "python3"
  },
  "language_info": {
   "codemirror_mode": {
    "name": "ipython",
    "version": 3
   },
   "file_extension": ".py",
   "mimetype": "text/x-python",
   "name": "python",
   "nbconvert_exporter": "python",
   "pygments_lexer": "ipython3",
   "version": "3.7.2"
  }
 },
 "nbformat": 4,
 "nbformat_minor": 2
}
