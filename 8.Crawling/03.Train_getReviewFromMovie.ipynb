{
 "cells": [
  {
   "cell_type": "code",
   "execution_count": 6,
   "metadata": {},
   "outputs": [],
   "source": [
    "from bs4 import BeautifulSoup\n",
    "from urllib.request import urlopen\n",
    "\n",
    "url = 'https://movie.naver.com/movie/bi/mi/pointWriteFormList.nhn?code=163788&type=after&isActualPointWriteExecute=false&isMileageSubscriptionAlready=false&isMileageSubscriptionReject=false&page={}'\n",
    "\n",
    "html = urlopen(url.format(500))"
   ]
  },
  {
   "cell_type": "code",
   "execution_count": 7,
   "metadata": {},
   "outputs": [],
   "source": [
    "bsobj = BeautifulSoup(html.read(), 'html.parser')"
   ]
  },
  {
   "cell_type": "code",
   "execution_count": 9,
   "metadata": {},
   "outputs": [],
   "source": [
    "list = bsobj.findAll('div', {\"class\":\"score_result\"})"
   ]
  },
  {
   "cell_type": "code",
   "execution_count": 16,
   "metadata": {},
   "outputs": [],
   "source": [
    "litag = list[0].ul.findAll('li')"
   ]
  },
  {
   "cell_type": "code",
   "execution_count": 22,
   "metadata": {},
   "outputs": [
    {
     "data": {
      "text/plain": [
       "<li>\n",
       "<div class=\"star_score\">\n",
       "<span class=\"st_off\"><span class=\"st_on\" style=\"width:80.0%\"></span></span><em>8</em>\n",
       "</div>\n",
       "<div class=\"score_reple\">\n",
       "<p>노래는 좋았는데 솔직히 스토리 진행이 좀 부실해서 아쉬웠어요.  </p>\n",
       "<dl>\n",
       "<dt>\n",
       "<em>\n",
       "<a href=\"#\" onclick=\"javascript:showPointListByNid(15726436, 'after');parent.clickcr(this, 'ara.uid', '', '', event); return false;\" target=\"_top\">\n",
       "<span>네모네모세모(apfm****)</span>\n",
       "</a>\n",
       "</em>\n",
       "<em>2019.05.27 09:50</em>\n",
       "</dt>\n",
       "<dd>\n",
       "<a class=\"go_report2\" href=\"#\" onclick=\"parent.clickcr(this, 'ara.report', '', '', event); common.report('false','apfm****', '8dYbZKJ5r7kbr4Iad1kevebs3WFxC7zgo0aakvSSkGk=', '노래는 좋았는데 솔직히 스토리 진행이 좀 부실해서 아쉬웠어요. ', '15726436', 'point_after', false);return false;\"><em>신고</em></a>\n",
       "</dd>\n",
       "</dl>\n",
       "</div>\n",
       "<div class=\"btn_area\">\n",
       "<a class=\"_sympathyButton\" href=\"#\" onclick=\"parent.clickcr(this, 'ara.sym', '', '', event);\"><span class=\"blind\">공감</span></a><strong><span class=\"sympathy_15726436 count\">1</span></strong>\n",
       "<a class=\"_notSympathyButton\" href=\"#\" onclick=\"parent.clickcr(this, 'ara.opp', '', '', event);\"><span class=\"blind\">비공감</span></a><strong><span class=\"notSympathy_15726436 count v2\">2</span></strong>\n",
       "</div>\n",
       "</li>"
      ]
     },
     "execution_count": 22,
     "metadata": {},
     "output_type": "execute_result"
    }
   ],
   "source": [
    "list[0].ul.find('li')"
   ]
  },
  {
   "cell_type": "code",
   "execution_count": 37,
   "metadata": {},
   "outputs": [
    {
     "name": "stdout",
     "output_type": "stream",
     "text": [
      "8 노래는 좋았는데 솔직히 스토리 진행이 좀 부실해서 아쉬웠어요.   네모네모세모(apfm****)\n",
      "9 그럭저럭 잘 만든 영화, 두번은 글쎄..   곰팅이(kiki****)\n",
      "7 개연성이 부족한 부분은 있지만 ost나 영상미가 좋았어요   RED(dbdu****)\n",
      "6 노래는 괜찮았고 단편적인 개그는 훌륭했으나 전반적인 서사의 서술에 실패했다캐릭터 각자의 설명이 부족했고 전반적으로 산만했다   umtj****\n",
      "6 윌 스미스와 멘켄,애쉬먼,라이스의 원주제곡이 아니었으면 큰일났을 영화. 밥상은 잘 차려졌는데, 실사영화의 매력을 제대로 살리지 못한 연출 ㅠ.ㅠ   치즈Cake88(alie****)\n",
      "10 페미니즘 영화가 아닌 휴머니즘 영화.이 영화에 페미를 붙이는 것은 실례다.   바람개비1(dra1****)\n",
      "5 여기에 욘두가 나오다니??   하나의하늘(kero****)\n",
      "10 별점이 10점까지 밖에 없는게 아쉽다 ㅜㅜ 진짜 너무 감동적이고 쟈스민 넘 멋짐 ㅜㅜ speechless 백번 들으세요 영화도 너무 아름답고 잘 살렸네요 웃긴요소도 많고 두번 봐도 안 아까울 영화인듯요   Hyoni(sky6****)\n",
      "10 이걸 왜 기대를 안했던건지 이상할만큼 재밌는 영화였음, 또 보고싶다   시인의아들(lsch****)\n",
      "10 그냥 꼭보라고 말씀드리고 싶네요후회하지는 않을 영화입니다 역시 믿고보는 디즈니   아임지수(imji****)\n"
     ]
    }
   ],
   "source": [
    "review = dict()\n",
    "for li in litag:\n",
    "    print(li.em.text, li.p.text, li.dl.dt.em.a.span.text)\n",
    "    review[li.dl.dt.em.a.span.text] = {'평점':li.em.text, '내용':li.p.text} "
   ]
  },
  {
   "cell_type": "code",
   "execution_count": 40,
   "metadata": {},
   "outputs": [
    {
     "data": {
      "text/html": [
       "<div>\n",
       "<style scoped>\n",
       "    .dataframe tbody tr th:only-of-type {\n",
       "        vertical-align: middle;\n",
       "    }\n",
       "\n",
       "    .dataframe tbody tr th {\n",
       "        vertical-align: top;\n",
       "    }\n",
       "\n",
       "    .dataframe thead th {\n",
       "        text-align: right;\n",
       "    }\n",
       "</style>\n",
       "<table border=\"1\" class=\"dataframe\">\n",
       "  <thead>\n",
       "    <tr style=\"text-align: right;\">\n",
       "      <th></th>\n",
       "      <th>내용</th>\n",
       "      <th>평점</th>\n",
       "    </tr>\n",
       "  </thead>\n",
       "  <tbody>\n",
       "    <tr>\n",
       "      <th>네모네모세모(apfm****)</th>\n",
       "      <td>노래는 좋았는데 솔직히 스토리 진행이 좀 부실해서 아쉬웠어요.</td>\n",
       "      <td>8</td>\n",
       "    </tr>\n",
       "    <tr>\n",
       "      <th>곰팅이(kiki****)</th>\n",
       "      <td>그럭저럭 잘 만든 영화, 두번은 글쎄..</td>\n",
       "      <td>9</td>\n",
       "    </tr>\n",
       "    <tr>\n",
       "      <th>RED(dbdu****)</th>\n",
       "      <td>개연성이 부족한 부분은 있지만 ost나 영상미가 좋았어요</td>\n",
       "      <td>7</td>\n",
       "    </tr>\n",
       "    <tr>\n",
       "      <th>umtj****</th>\n",
       "      <td>노래는 괜찮았고 단편적인 개그는 훌륭했으나 전반적인 서사의 서술에 실패했다캐릭터 각...</td>\n",
       "      <td>6</td>\n",
       "    </tr>\n",
       "    <tr>\n",
       "      <th>치즈Cake88(alie****)</th>\n",
       "      <td>윌 스미스와 멘켄,애쉬먼,라이스의 원주제곡이 아니었으면 큰일났을 영화. 밥상은 잘 ...</td>\n",
       "      <td>6</td>\n",
       "    </tr>\n",
       "    <tr>\n",
       "      <th>바람개비1(dra1****)</th>\n",
       "      <td>페미니즘 영화가 아닌 휴머니즘 영화.이 영화에 페미를 붙이는 것은 실례다.</td>\n",
       "      <td>10</td>\n",
       "    </tr>\n",
       "    <tr>\n",
       "      <th>하나의하늘(kero****)</th>\n",
       "      <td>여기에 욘두가 나오다니??</td>\n",
       "      <td>5</td>\n",
       "    </tr>\n",
       "    <tr>\n",
       "      <th>Hyoni(sky6****)</th>\n",
       "      <td>별점이 10점까지 밖에 없는게 아쉽다 ㅜㅜ 진짜 너무 감동적이고 쟈스민 넘 멋짐 ㅜ...</td>\n",
       "      <td>10</td>\n",
       "    </tr>\n",
       "    <tr>\n",
       "      <th>시인의아들(lsch****)</th>\n",
       "      <td>이걸 왜 기대를 안했던건지 이상할만큼 재밌는 영화였음, 또 보고싶다</td>\n",
       "      <td>10</td>\n",
       "    </tr>\n",
       "    <tr>\n",
       "      <th>아임지수(imji****)</th>\n",
       "      <td>그냥 꼭보라고 말씀드리고 싶네요후회하지는 않을 영화입니다 역시 믿고보는 디즈니</td>\n",
       "      <td>10</td>\n",
       "    </tr>\n",
       "  </tbody>\n",
       "</table>\n",
       "</div>"
      ],
      "text/plain": [
       "                                                                   내용  평점\n",
       "네모네모세모(apfm****)                 노래는 좋았는데 솔직히 스토리 진행이 좀 부실해서 아쉬웠어요.     8\n",
       "곰팅이(kiki****)                                그럭저럭 잘 만든 영화, 두번은 글쎄..     9\n",
       "RED(dbdu****)                       개연성이 부족한 부분은 있지만 ost나 영상미가 좋았어요     7\n",
       "umtj****            노래는 괜찮았고 단편적인 개그는 훌륭했으나 전반적인 서사의 서술에 실패했다캐릭터 각...   6\n",
       "치즈Cake88(alie****)  윌 스미스와 멘켄,애쉬먼,라이스의 원주제곡이 아니었으면 큰일났을 영화. 밥상은 잘 ...   6\n",
       "바람개비1(dra1****)           페미니즘 영화가 아닌 휴머니즘 영화.이 영화에 페미를 붙이는 것은 실례다.    10\n",
       "하나의하늘(kero****)                                      여기에 욘두가 나오다니??     5\n",
       "Hyoni(sky6****)     별점이 10점까지 밖에 없는게 아쉽다 ㅜㅜ 진짜 너무 감동적이고 쟈스민 넘 멋짐 ㅜ...  10\n",
       "시인의아들(lsch****)               이걸 왜 기대를 안했던건지 이상할만큼 재밌는 영화였음, 또 보고싶다    10\n",
       "아임지수(imji****)          그냥 꼭보라고 말씀드리고 싶네요후회하지는 않을 영화입니다 역시 믿고보는 디즈니    10"
      ]
     },
     "execution_count": 40,
     "metadata": {},
     "output_type": "execute_result"
    }
   ],
   "source": [
    "import pandas as pd\n",
    "pd.DataFrame(review).T"
   ]
  },
  {
   "cell_type": "code",
   "execution_count": 34,
   "metadata": {},
   "outputs": [
    {
     "data": {
      "text/plain": [
       "'네모네모세모(apfm****)'"
      ]
     },
     "execution_count": 34,
     "metadata": {},
     "output_type": "execute_result"
    }
   ],
   "source": []
  },
  {
   "cell_type": "code",
   "execution_count": null,
   "metadata": {},
   "outputs": [],
   "source": []
  }
 ],
 "metadata": {
  "kernelspec": {
   "display_name": "Python 3",
   "language": "python",
   "name": "python3"
  },
  "language_info": {
   "codemirror_mode": {
    "name": "ipython",
    "version": 3
   },
   "file_extension": ".py",
   "mimetype": "text/x-python",
   "name": "python",
   "nbconvert_exporter": "python",
   "pygments_lexer": "ipython3",
   "version": "3.7.2"
  }
 },
 "nbformat": 4,
 "nbformat_minor": 2
}
